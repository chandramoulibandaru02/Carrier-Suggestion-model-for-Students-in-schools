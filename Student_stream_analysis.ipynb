{
  "nbformat": 4,
  "nbformat_minor": 0,
  "metadata": {
    "colab": {
      "provenance": []
    },
    "kernelspec": {
      "name": "python3",
      "display_name": "Python 3"
    },
    "language_info": {
      "name": "python"
    }
  },
  "cells": [
    {
      "cell_type": "code",
      "execution_count": 16,
      "metadata": {
        "id": "1HYNm_YLKyGf"
      },
      "outputs": [],
      "source": [
        "import numpy as np\n",
        "from sklearn.preprocessing import LabelEncoder"
      ]
    },
    {
      "cell_type": "code",
      "source": [
        "sample_input= np.array([[1, 1, 15, 10, 70, 90, 88, 10, 75, 82]])"
      ],
      "metadata": {
        "id": "LHPLI-wML2pj"
      },
      "execution_count": 30,
      "outputs": []
    },
    {
      "cell_type": "code",
      "source": [
        "x=model.predict(sample_input)"
      ],
      "metadata": {
        "colab": {
          "base_uri": "https://localhost:8080/"
        },
        "id": "Fjs6w3JYMw9d",
        "outputId": "fd1c48a7-1a07-4b14-979e-fd2d1e8d2500"
      },
      "execution_count": 31,
      "outputs": [
        {
          "output_type": "stream",
          "name": "stdout",
          "text": [
            "\u001b[1m1/1\u001b[0m \u001b[32m━━━━━━━━━━━━━━━━━━━━\u001b[0m\u001b[37m\u001b[0m \u001b[1m0s\u001b[0m 57ms/step\n"
          ]
        }
      ]
    },
    {
      "cell_type": "code",
      "source": [
        "np.argmax(x)"
      ],
      "metadata": {
        "colab": {
          "base_uri": "https://localhost:8080/"
        },
        "id": "w5ZAdDRpM2bO",
        "outputId": "3baecd71-8a02-4d2c-9904-dc7da6e5e0cd"
      },
      "execution_count": 32,
      "outputs": [
        {
          "output_type": "execute_result",
          "data": {
            "text/plain": [
              "np.int64(3)"
            ]
          },
          "metadata": {},
          "execution_count": 32
        }
      ]
    },
    {
      "cell_type": "code",
      "source": [
        "Classes: ['Accountant', 'Artist', 'Banker', 'Business Owner',\n",
        "           'Construction Engineer', 'Designer', 'Doctor',\n",
        "           'Game Developer', 'Government Officer', 'Lawyer',\n",
        "           'Real Estate Developer', 'Scientist',\n",
        "           'Software Engineer', 'Stock Investor',\n",
        "           'Teacher', 'Unknown', 'Writer']\n",
        "\n",
        ""
      ],
      "metadata": {
        "id": "Du480HykM3CN"
      },
      "execution_count": 63,
      "outputs": []
    },
    {
      "cell_type": "code",
      "metadata": {
        "id": "b39e2f37"
      },
      "source": [
        "Label_mapping = {\n",
        " 0: 'Accountant',\n",
        " 1: 'Artist',\n",
        " 2: 'Banker',\n",
        " 3: 'Business Owner',\n",
        " 4: 'Construction Engineer',\n",
        " 5: 'Designer',\n",
        " 6: 'Doctor',\n",
        " 7: 'Game Developer',\n",
        " 8: 'Government Officer',\n",
        " 9: 'Lawyer',\n",
        "10: 'Real Estate Developer',\n",
        "11: 'Scientist',\n",
        "12: 'Software Engineer',\n",
        "13: 'Stock Investor',\n",
        "14: 'Teacher',\n",
        "15: 'Unknown',\n",
        "16: 'Writer'\n",
        "}"
      ],
      "execution_count": 64,
      "outputs": []
    },
    {
      "cell_type": "code",
      "source": [
        "sam=np.array([[a,b,c,d,e,f,g,h,i,j]])"
      ],
      "metadata": {
        "id": "ZCzLgEomdZg1"
      },
      "execution_count": 66,
      "outputs": []
    },
    {
      "cell_type": "code",
      "source": [
        "model.predict(sam)"
      ],
      "metadata": {
        "colab": {
          "base_uri": "https://localhost:8080/"
        },
        "id": "oRBfqomSRyFu",
        "outputId": "95dcc66a-1caa-4335-9cc0-552cb4b5169a"
      },
      "execution_count": 67,
      "outputs": [
        {
          "output_type": "stream",
          "name": "stdout",
          "text": [
            "\u001b[1m1/1\u001b[0m \u001b[32m━━━━━━━━━━━━━━━━━━━━\u001b[0m\u001b[37m\u001b[0m \u001b[1m0s\u001b[0m 84ms/step\n"
          ]
        },
        {
          "output_type": "execute_result",
          "data": {
            "text/plain": [
              "array([[4.0985903e-04, 1.0358245e-02, 4.5106062e-04, 9.1297245e-01,\n",
              "        2.6875867e-05, 1.3806069e-02, 8.5234539e-08, 8.7676160e-03,\n",
              "        2.0393084e-03, 8.1973944e-08, 4.0093284e-02, 2.6343345e-09,\n",
              "        1.6279559e-04, 4.8709461e-03, 3.2071047e-04, 5.7195318e-03,\n",
              "        1.1095671e-06]], dtype=float32)"
            ]
          },
          "metadata": {},
          "execution_count": 67
        }
      ]
    },
    {
      "cell_type": "code",
      "source": [
        "np.argmax(model.predict(sam))"
      ],
      "metadata": {
        "colab": {
          "base_uri": "https://localhost:8080/"
        },
        "id": "Ji3rCrJ_R1Q_",
        "outputId": "b18bfaf4-80ec-4179-a064-a43270d9ae65"
      },
      "execution_count": 68,
      "outputs": [
        {
          "output_type": "stream",
          "name": "stdout",
          "text": [
            "\u001b[1m1/1\u001b[0m \u001b[32m━━━━━━━━━━━━━━━━━━━━\u001b[0m\u001b[37m\u001b[0m \u001b[1m0s\u001b[0m 35ms/step\n"
          ]
        },
        {
          "output_type": "execute_result",
          "data": {
            "text/plain": [
              "np.int64(3)"
            ]
          },
          "metadata": {},
          "execution_count": 68
        }
      ]
    },
    {
      "cell_type": "code",
      "source": [
        "Label_mapping[np.argmax(model.predict(sam))]"
      ],
      "metadata": {
        "colab": {
          "base_uri": "https://localhost:8080/",
          "height": 53
        },
        "id": "3O9VRnpuR8Jy",
        "outputId": "01c6c6e1-1913-4042-976a-8271d96e0e98"
      },
      "execution_count": 69,
      "outputs": [
        {
          "output_type": "stream",
          "name": "stdout",
          "text": [
            "\u001b[1m1/1\u001b[0m \u001b[32m━━━━━━━━━━━━━━━━━━━━\u001b[0m\u001b[37m\u001b[0m \u001b[1m0s\u001b[0m 36ms/step\n"
          ]
        },
        {
          "output_type": "execute_result",
          "data": {
            "text/plain": [
              "'Business Owner'"
            ],
            "application/vnd.google.colaboratory.intrinsic+json": {
              "type": "string"
            }
          },
          "metadata": {},
          "execution_count": 69
        }
      ]
    },
    {
      "cell_type": "code",
      "source": [
        "a=int(input(\"Enter whether you are Doing any Part time Job: (yes-> 1) (No-> 0): \"))\n",
        "b=int(input(\"Are you interested in Extra cirucullar activites (yes-> 1) (No-> 0): \"))\n",
        "c=int(input(\"How many hours will you study in a week: \"))"
      ],
      "metadata": {
        "colab": {
          "base_uri": "https://localhost:8080/"
        },
        "id": "ktQJj39mSAtL",
        "outputId": "4aeed50e-75a7-4397-ffbe-43c07642918c"
      },
      "execution_count": 65,
      "outputs": [
        {
          "name": "stdout",
          "output_type": "stream",
          "text": [
            "Enter whether you are Doing any Part time Job: (yes-> 1) (No-> 0): 1\n",
            "Are you interested in Extra cirucullar activites (yes-> 1) (No-> 0): 0\n",
            "How many hours will you study in a week: 5\n"
          ]
        }
      ]
    },
    {
      "cell_type": "code",
      "source": [
        "questions = {\n",
        "    \"Maths\": [\n",
        "        (\"What is (5 × 6) + 8?\", [\"34\", \"36\", \"38\", \"40\"], \"38\"),\n",
        "        (\"The area of a square with side 7 cm is:\", [\"42\", \"49\", \"56\", \"63\"], \"49\"),\n",
        "        (\"Simplify: 12 + (8 ÷ 4) × 3\", [\"15\", \"18\", \"20\", \"24\"], \"18\"),\n",
        "        (\"What is 3² + 4²?\", [\"12\", \"16\", \"25\", \"7\"], \"25\"),\n",
        "        (\"What is the HCF of 12 and 18?\", [\"2\", \"3\", \"6\", \"9\"], \"6\")\n",
        "    ],\n",
        "    \"History\": [\n",
        "        (\"Who was the first Prime Minister of India?\", [\"Gandhi\", \"Nehru\", \"Patel\", \"Bose\"], \"Nehru\"),\n",
        "        (\"In which year did India get independence?\", [\"1942\", \"1945\", \"1947\", \"1950\"], \"1947\"),\n",
        "        (\"The Mughal Empire was founded by:\", [\"Akbar\", \"Aurangzeb\", \"Babur\", \"Shah Jahan\"], \"Babur\"),\n",
        "        (\"Who was known as Iron Man of India?\", [\"Nehru\", \"Gandhi\", \"Patel\", \"Tilak\"], \"Patel\"),\n",
        "        (\"Who discovered sea route to India?\", [\"Columbus\", \"Magellan\", \"Vasco da Gama\", \"Cabral\"], \"Vasco da Gama\")\n",
        "    ],\n",
        "    \"Physics\": [\n",
        "        (\"What is the SI unit of force?\", [\"Joule\", \"Newton\", \"Watt\", \"Pascal\"], \"Newton\"),\n",
        "        (\"Which law explains action and reaction?\", [\"Newton's 1st Law\", \"Newton's 2nd Law\", \"Newton's 3rd Law\", \"Law of Gravity\"], \"Newton's 3rd Law\"),\n",
        "        (\"Speed = ?\", [\"Distance × Time\", \"Distance ÷ Time\", \"Time ÷ Distance\", \"None\"], \"Distance ÷ Time\"),\n",
        "        (\"What is the acceleration due to gravity on Earth?\", [\"9.8 m/s²\", \"10 m/s²\", \"8.9 m/s²\", \"9.0 m/s²\"], \"9.8 m/s²\"),\n",
        "        (\"Which of these is not a vector quantity?\", [\"Force\", \"Velocity\", \"Mass\", \"Acceleration\"], \"Mass\")\n",
        "    ],\n",
        "    \"Chemistry\": [\n",
        "        (\"Water is a:\", [\"Compound\", \"Mixture\", \"Element\", \"Solution\"], \"Compound\"),\n",
        "        (\"The symbol of Sodium is:\", [\"Na\", \"So\", \"S\", \"Sn\"], \"Na\"),\n",
        "        (\"Which gas is used in photosynthesis?\", [\"CO₂\", \"O₂\", \"H₂\", \"N₂\"], \"CO₂\"),\n",
        "        (\"H₂O is the chemical formula of:\", [\"Water\", \"Hydrogen\", \"Oxygen\", \"Salt\"], \"Water\"),\n",
        "        (\"Which acid is present in lemon?\", [\"Acetic acid\", \"Sulfuric acid\", \"Citric acid\", \"Nitric acid\"], \"Citric acid\")\n",
        "    ],\n",
        "    \"Biology\": [\n",
        "        (\"Which part of the plant makes food?\", [\"Stem\", \"Leaf\", \"Root\", \"Flower\"], \"Leaf\"),\n",
        "        (\"The basic unit of life is:\", [\"Atom\", \"Cell\", \"Tissue\", \"Organ\"], \"Cell\"),\n",
        "        (\"Which organ pumps blood?\", [\"Brain\", \"Lungs\", \"Heart\", \"Liver\"], \"Heart\"),\n",
        "        (\"Photosynthesis needs:\", [\"Sunlight\", \"Water\", \"CO₂\", \"All of these\"], \"All of these\"),\n",
        "        (\"The largest organ in the human body is:\", [\"Heart\", \"Skin\", \"Liver\", \"Brain\"], \"Skin\")\n",
        "    ],\n",
        "    \"English\": [\n",
        "        (\"Choose the correct past tense of 'go':\", [\"goed\", \"went\", \"goes\", \"gone\"], \"went\"),\n",
        "        (\"Choose the synonym of 'happy':\", [\"sad\", \"angry\", \"joyful\", \"tired\"], \"joyful\"),\n",
        "        (\"Choose the correct article: ___ apple a day keeps the doctor away.\", [\"A\", \"An\", \"The\", \"No article\"], \"An\"),\n",
        "        (\"Find the antonym of 'strong':\", [\"weak\", \"powerful\", \"tough\", \"brave\"], \"weak\"),\n",
        "        (\"Choose the correctly spelled word:\", [\"Definately\", \"Definitely\", \"Defanitely\", \"Definitly\"], \"Definitely\")\n",
        "    ],\n",
        "\n",
        "    \"Geography\": [\n",
        "        (\"Which is the largest continent?\", [\"Asia\", \"Africa\", \"Europe\", \"Australia\"], \"Asia\"),\n",
        "        (\"Which gas forms the major part of air?\", [\"Oxygen\", \"Carbon dioxide\", \"Nitrogen\", \"Hydrogen\"], \"Nitrogen\"),\n",
        "        (\"The imaginary line dividing Earth into two equal halves is:\", [\"Equator\", \"Tropic of Cancer\", \"Prime Meridian\", \"Latitude\"], \"Equator\"),\n",
        "        (\"Which is the longest river in the world?\", [\"Amazon\", \"Nile\", \"Ganga\", \"Yangtze\"], \"Nile\"),\n",
        "        (\"Which planet is called the Red Planet?\", [\"Earth\", \"Mars\", \"Venus\", \"Jupiter\"], \"Mars\")\n",
        "    ]\n",
        "}\n",
        "\n",
        "marks_per_question = 5\n",
        "questions_per_subject = 5\n",
        "\n",
        "# Initialize dictionaries for scores and wrong answers\n",
        "subject_scores = {}\n",
        "subject_wrong_answers = {}\n",
        "\n",
        "# Loop through each subject\n",
        "for subject, q_list in questions.items():\n",
        "    score = 0\n",
        "    wrongs = []\n",
        "    print(f\"\\n--- {subject} ---\")\n",
        "    for idx, (q, options, answer) in enumerate(q_list[:questions_per_subject], start=1):\n",
        "        print(f\"\\nQ{idx}: {q}\")\n",
        "        for i, opt in enumerate(options):\n",
        "            print(f\"{i+1}. {opt}\")\n",
        "        choice = input(\"Enter your answer (1-4): \")\n",
        "\n",
        "        # Validate input\n",
        "        if choice.isdigit() and 1 <= int(choice) <= 4:\n",
        "            selected = options[int(choice)-1]\n",
        "            if selected == answer:\n",
        "                score += marks_per_question\n",
        "            else:\n",
        "                wrongs.append((q, selected, answer))\n",
        "        else:\n",
        "            wrongs.append((q, \"Invalid input\", answer))\n",
        "\n",
        "    # Scale score to 100 for the subject\n",
        "    scaled_score = (score / (marks_per_question * questions_per_subject)) * 100\n",
        "    subject_scores[subject] = scaled_score\n",
        "    subject_wrong_answers[subject] = wrongs\n",
        "\n",
        "# Assign to variables\n",
        "d = subject_scores.get(\"Maths\", 0)\n",
        "e = subject_scores.get(\"Physics\", 0)\n",
        "f=subject_scores.get(\"Chemistry\",0)\n",
        "g=subject_scores.get(\"Biology\",0)\n",
        "h=subject_scores.get(\"English\",0)\n",
        "i=subject_scores.get(\"History\",0)\n",
        "j=subject_scores.get(\"Geography\",0)\n",
        "#f, g, h, i, j can be assigned similarly for other subjects\n",
        "\n",
        "# Print scaled scores\n",
        "print(\"\\n--- Scaled Scores ---\")\n",
        "print(f\"d (Maths) = {d:.2f}\")\n",
        "print(f\"e (Physics) = {e:.2f}\")\n",
        "print(f\"d (Chemistry) = {f:.2f}\")\n",
        "print(f\"e (Biology) = {g:.2f}\")\n",
        "print(f\"d (English) = {h:.2f}\")\n",
        "print(f\"e (History) = {i:.2f}\")\n",
        "print(f\"d (Geography) = {j:.2f}\")\n",
        "# Print wrongly answered questions\n",
        "print(\"\\n--- Wrongly Answered Questions ---\")\n",
        "for subject, wrongs in subject_wrong_answers.items():\n",
        "    if wrongs:\n",
        "        print(f\"\\n{subject}:\")\n",
        "        for q, given, correct in wrongs:\n",
        "            print(f\"Q: {q}\\nYour answer: {given} | Correct answer: {correct}\")\n"
      ],
      "metadata": {
        "colab": {
          "base_uri": "https://localhost:8080/"
        },
        "id": "GExw2Tetavmq",
        "outputId": "26505da5-0ad8-469d-e336-11d73351c1ec"
      },
      "execution_count": 55,
      "outputs": [
        {
          "output_type": "stream",
          "name": "stdout",
          "text": [
            "\n",
            "--- Maths ---\n",
            "\n",
            "Q1: What is (5 × 6) + 8?\n",
            "1. 34\n",
            "2. 36\n",
            "3. 38\n",
            "4. 40\n",
            "Enter your answer (1-4): 3\n",
            "\n",
            "Q2: The area of a square with side 7 cm is:\n",
            "1. 42\n",
            "2. 49\n",
            "3. 56\n",
            "4. 63\n",
            "Enter your answer (1-4): 2\n",
            "\n",
            "Q3: Simplify: 12 + (8 ÷ 4) × 3\n",
            "1. 15\n",
            "2. 18\n",
            "3. 20\n",
            "4. 24\n",
            "Enter your answer (1-4): 2\n",
            "\n",
            "Q4: What is 3² + 4²?\n",
            "1. 12\n",
            "2. 16\n",
            "3. 25\n",
            "4. 7\n",
            "Enter your answer (1-4): 3\n",
            "\n",
            "Q5: What is the HCF of 12 and 18?\n",
            "1. 2\n",
            "2. 3\n",
            "3. 6\n",
            "4. 9\n",
            "Enter your answer (1-4): 1\n",
            "\n",
            "--- Physics ---\n",
            "\n",
            "Q1: What is the SI unit of force?\n",
            "1. Joule\n",
            "2. Newton\n",
            "3. Watt\n",
            "4. Pascal\n",
            "Enter your answer (1-4): 3\n",
            "\n",
            "Q2: Which law explains action and reaction?\n",
            "1. Newton's 1st Law\n",
            "2. Newton's 2nd Law\n",
            "3. Newton's 3rd Law\n",
            "4. Law of Gravity\n",
            "Enter your answer (1-4): 2\n",
            "\n",
            "Q3: Speed = ?\n",
            "1. Distance × Time\n",
            "2. Distance ÷ Time\n",
            "3. Time ÷ Distance\n",
            "4. None\n",
            "Enter your answer (1-4): 1\n",
            "\n",
            "Q4: What is the acceleration due to gravity on Earth?\n",
            "1. 9.8 m/s²\n",
            "2. 10 m/s²\n",
            "3. 8.9 m/s²\n",
            "4. 9.0 m/s²\n",
            "Enter your answer (1-4): 2\n",
            "\n",
            "Q5: Which of these is not a vector quantity?\n",
            "1. Force\n",
            "2. Velocity\n",
            "3. Mass\n",
            "4. Acceleration\n",
            "Enter your answer (1-4): 3\n",
            "\n",
            "--- Chemistry ---\n",
            "\n",
            "Q1: Water is a:\n",
            "1. Compound\n",
            "2. Mixture\n",
            "3. Element\n",
            "4. Solution\n",
            "Enter your answer (1-4): 4\n",
            "\n",
            "Q2: The symbol of Sodium is:\n",
            "1. Na\n",
            "2. So\n",
            "3. S\n",
            "4. Sn\n",
            "Enter your answer (1-4): 2\n",
            "\n",
            "Q3: Which gas is used in photosynthesis?\n",
            "1. CO₂\n",
            "2. O₂\n",
            "3. H₂\n",
            "4. N₂\n",
            "Enter your answer (1-4): 2\n",
            "\n",
            "Q4: H₂O is the chemical formula of:\n",
            "1. Water\n",
            "2. Hydrogen\n",
            "3. Oxygen\n",
            "4. Salt\n",
            "Enter your answer (1-4): 1\n",
            "\n",
            "Q5: Which acid is present in lemon?\n",
            "1. Acetic acid\n",
            "2. Sulfuric acid\n",
            "3. Citric acid\n",
            "4. Nitric acid\n",
            "Enter your answer (1-4): 2\n",
            "\n",
            "--- Biology ---\n",
            "\n",
            "Q1: Which part of the plant makes food?\n",
            "1. Stem\n",
            "2. Leaf\n",
            "3. Root\n",
            "4. Flower\n",
            "Enter your answer (1-4): 3\n",
            "\n",
            "Q2: The basic unit of life is:\n",
            "1. Atom\n",
            "2. Cell\n",
            "3. Tissue\n",
            "4. Organ\n",
            "Enter your answer (1-4): 4\n",
            "\n",
            "Q3: Which organ pumps blood?\n",
            "1. Brain\n",
            "2. Lungs\n",
            "3. Heart\n",
            "4. Liver\n",
            "Enter your answer (1-4): 2\n",
            "\n",
            "Q4: Photosynthesis needs:\n",
            "1. Sunlight\n",
            "2. Water\n",
            "3. CO₂\n",
            "4. All of these\n",
            "Enter your answer (1-4): 1\n",
            "\n",
            "Q5: The largest organ in the human body is:\n",
            "1. Heart\n",
            "2. Skin\n",
            "3. Liver\n",
            "4. Brain\n",
            "Enter your answer (1-4): 1\n",
            "\n",
            "--- English ---\n",
            "\n",
            "Q1: Choose the correct past tense of 'go':\n",
            "1. goed\n",
            "2. went\n",
            "3. goes\n",
            "4. gone\n",
            "Enter your answer (1-4): 2\n",
            "\n",
            "Q2: Choose the synonym of 'happy':\n",
            "1. sad\n",
            "2. angry\n",
            "3. joyful\n",
            "4. tired\n",
            "Enter your answer (1-4): 3\n",
            "\n",
            "Q3: Choose the correct article: ___ apple a day keeps the doctor away.\n",
            "1. A\n",
            "2. An\n",
            "3. The\n",
            "4. No article\n",
            "Enter your answer (1-4): 4\n",
            "\n",
            "Q4: Find the antonym of 'strong':\n",
            "1. weak\n",
            "2. powerful\n",
            "3. tough\n",
            "4. brave\n",
            "Enter your answer (1-4): 2\n",
            "\n",
            "Q5: Choose the correctly spelled word:\n",
            "1. Definately\n",
            "2. Definitely\n",
            "3. Defanitely\n",
            "4. Definitly\n",
            "Enter your answer (1-4): 3\n",
            "\n",
            "--- History ---\n",
            "\n",
            "Q1: Who was the first Prime Minister of India?\n",
            "1. Gandhi\n",
            "2. Nehru\n",
            "3. Patel\n",
            "4. Bose\n",
            "Enter your answer (1-4): 1\n",
            "\n",
            "Q2: In which year did India get independence?\n",
            "1. 1942\n",
            "2. 1945\n",
            "3. 1947\n",
            "4. 1950\n",
            "Enter your answer (1-4): 2\n",
            "\n",
            "Q3: The Mughal Empire was founded by:\n",
            "1. Akbar\n",
            "2. Aurangzeb\n",
            "3. Babur\n",
            "4. Shah Jahan\n",
            "Enter your answer (1-4): 3\n",
            "\n",
            "Q4: Who was known as Iron Man of India?\n",
            "1. Nehru\n",
            "2. Gandhi\n",
            "3. Patel\n",
            "4. Tilak\n",
            "Enter your answer (1-4): 1\n",
            "\n",
            "Q5: Who discovered sea route to India?\n",
            "1. Columbus\n",
            "2. Magellan\n",
            "3. Vasco da Gama\n",
            "4. Cabral\n",
            "Enter your answer (1-4): 2\n",
            "\n",
            "--- Geography ---\n",
            "\n",
            "Q1: Which is the largest continent?\n",
            "1. Asia\n",
            "2. Africa\n",
            "3. Europe\n",
            "4. Australia\n",
            "Enter your answer (1-4): 1\n",
            "\n",
            "Q2: Which gas forms the major part of air?\n",
            "1. Oxygen\n",
            "2. Carbon dioxide\n",
            "3. Nitrogen\n",
            "4. Hydrogen\n",
            "Enter your answer (1-4): 2\n",
            "\n",
            "Q3: The imaginary line dividing Earth into two equal halves is:\n",
            "1. Equator\n",
            "2. Tropic of Cancer\n",
            "3. Prime Meridian\n",
            "4. Latitude\n",
            "Enter your answer (1-4): 3\n",
            "\n",
            "Q4: Which is the longest river in the world?\n",
            "1. Amazon\n",
            "2. Nile\n",
            "3. Ganga\n",
            "4. Yangtze\n",
            "Enter your answer (1-4): 2\n",
            "\n",
            "Q5: Which planet is called the Red Planet?\n",
            "1. Earth\n",
            "2. Mars\n",
            "3. Venus\n",
            "4. Jupiter\n",
            "Enter your answer (1-4): 1\n",
            "\n",
            "--- Scaled Scores ---\n",
            "d (Maths) = 80.00\n",
            "e (Physics) = 20.00\n",
            "d (Chemistry) = 20.00\n",
            "e (Biology) = 0.00\n",
            "d (English) = 40.00\n",
            "e (History) = 20.00\n",
            "d (Geography) = 40.00\n",
            "\n",
            "--- Wrongly Answered Questions ---\n",
            "\n",
            "Maths:\n",
            "Q: What is the HCF of 12 and 18?\n",
            "Your answer: 2 | Correct answer: 6\n",
            "\n",
            "Physics:\n",
            "Q: What is the SI unit of force?\n",
            "Your answer: Watt | Correct answer: Newton\n",
            "Q: Which law explains action and reaction?\n",
            "Your answer: Newton's 2nd Law | Correct answer: Newton's 3rd Law\n",
            "Q: Speed = ?\n",
            "Your answer: Distance × Time | Correct answer: Distance ÷ Time\n",
            "Q: What is the acceleration due to gravity on Earth?\n",
            "Your answer: 10 m/s² | Correct answer: 9.8 m/s²\n",
            "\n",
            "Chemistry:\n",
            "Q: Water is a:\n",
            "Your answer: Solution | Correct answer: Compound\n",
            "Q: The symbol of Sodium is:\n",
            "Your answer: So | Correct answer: Na\n",
            "Q: Which gas is used in photosynthesis?\n",
            "Your answer: O₂ | Correct answer: CO₂\n",
            "Q: Which acid is present in lemon?\n",
            "Your answer: Sulfuric acid | Correct answer: Citric acid\n",
            "\n",
            "Biology:\n",
            "Q: Which part of the plant makes food?\n",
            "Your answer: Root | Correct answer: Leaf\n",
            "Q: The basic unit of life is:\n",
            "Your answer: Organ | Correct answer: Cell\n",
            "Q: Which organ pumps blood?\n",
            "Your answer: Lungs | Correct answer: Heart\n",
            "Q: Photosynthesis needs:\n",
            "Your answer: Sunlight | Correct answer: All of these\n",
            "Q: The largest organ in the human body is:\n",
            "Your answer: Heart | Correct answer: Skin\n",
            "\n",
            "English:\n",
            "Q: Choose the correct article: ___ apple a day keeps the doctor away.\n",
            "Your answer: No article | Correct answer: An\n",
            "Q: Find the antonym of 'strong':\n",
            "Your answer: powerful | Correct answer: weak\n",
            "Q: Choose the correctly spelled word:\n",
            "Your answer: Defanitely | Correct answer: Definitely\n",
            "\n",
            "History:\n",
            "Q: Who was the first Prime Minister of India?\n",
            "Your answer: Gandhi | Correct answer: Nehru\n",
            "Q: In which year did India get independence?\n",
            "Your answer: 1945 | Correct answer: 1947\n",
            "Q: Who was known as Iron Man of India?\n",
            "Your answer: Nehru | Correct answer: Patel\n",
            "Q: Who discovered sea route to India?\n",
            "Your answer: Magellan | Correct answer: Vasco da Gama\n",
            "\n",
            "Geography:\n",
            "Q: Which gas forms the major part of air?\n",
            "Your answer: Carbon dioxide | Correct answer: Nitrogen\n",
            "Q: The imaginary line dividing Earth into two equal halves is:\n",
            "Your answer: Prime Meridian | Correct answer: Equator\n",
            "Q: Which planet is called the Red Planet?\n",
            "Your answer: Earth | Correct answer: Mars\n"
          ]
        }
      ]
    },
    {
      "cell_type": "code",
      "source": [
        "d"
      ],
      "metadata": {
        "colab": {
          "base_uri": "https://localhost:8080/"
        },
        "id": "O1DO20KqbAIm",
        "outputId": "4417662f-68f8-42b8-fb53-7245be75b222"
      },
      "execution_count": 56,
      "outputs": [
        {
          "output_type": "execute_result",
          "data": {
            "text/plain": [
              "80.0"
            ]
          },
          "metadata": {},
          "execution_count": 56
        }
      ]
    },
    {
      "cell_type": "code",
      "source": [
        "e"
      ],
      "metadata": {
        "colab": {
          "base_uri": "https://localhost:8080/"
        },
        "id": "DVD37rmKbL_1",
        "outputId": "1055c050-18ac-4b9e-a690-b7ca37954625"
      },
      "execution_count": 57,
      "outputs": [
        {
          "output_type": "execute_result",
          "data": {
            "text/plain": [
              "20.0"
            ]
          },
          "metadata": {},
          "execution_count": 57
        }
      ]
    },
    {
      "cell_type": "code",
      "source": [
        "f"
      ],
      "metadata": {
        "colab": {
          "base_uri": "https://localhost:8080/"
        },
        "id": "25Vfor-dcPHs",
        "outputId": "7bb03a2f-bf44-4596-a2c0-b75659f40ece"
      },
      "execution_count": 58,
      "outputs": [
        {
          "output_type": "execute_result",
          "data": {
            "text/plain": [
              "20.0"
            ]
          },
          "metadata": {},
          "execution_count": 58
        }
      ]
    },
    {
      "cell_type": "code",
      "source": [
        "g"
      ],
      "metadata": {
        "colab": {
          "base_uri": "https://localhost:8080/"
        },
        "id": "n2GK8SWXcPdN",
        "outputId": "c7772143-8f3d-427b-ed13-8227edd4f8cf"
      },
      "execution_count": 59,
      "outputs": [
        {
          "output_type": "execute_result",
          "data": {
            "text/plain": [
              "0.0"
            ]
          },
          "metadata": {},
          "execution_count": 59
        }
      ]
    },
    {
      "cell_type": "code",
      "source": [
        "h"
      ],
      "metadata": {
        "colab": {
          "base_uri": "https://localhost:8080/"
        },
        "id": "F9ihpZG3cPxI",
        "outputId": "a5e2fb5b-d063-4192-8ad6-d44aaeeb538c"
      },
      "execution_count": 60,
      "outputs": [
        {
          "output_type": "execute_result",
          "data": {
            "text/plain": [
              "40.0"
            ]
          },
          "metadata": {},
          "execution_count": 60
        }
      ]
    },
    {
      "cell_type": "code",
      "source": [
        "i"
      ],
      "metadata": {
        "colab": {
          "base_uri": "https://localhost:8080/"
        },
        "id": "60q8ZLLEcP_8",
        "outputId": "bff89f30-7fd5-4d89-a8fa-105a363a23c2"
      },
      "execution_count": 61,
      "outputs": [
        {
          "output_type": "execute_result",
          "data": {
            "text/plain": [
              "20.0"
            ]
          },
          "metadata": {},
          "execution_count": 61
        }
      ]
    },
    {
      "cell_type": "code",
      "source": [
        "j"
      ],
      "metadata": {
        "colab": {
          "base_uri": "https://localhost:8080/"
        },
        "id": "b3VI276zcQQQ",
        "outputId": "164206c5-2de6-48e9-c01b-4b2d2435f303"
      },
      "execution_count": 62,
      "outputs": [
        {
          "output_type": "execute_result",
          "data": {
            "text/plain": [
              "40.0"
            ]
          },
          "metadata": {},
          "execution_count": 62
        }
      ]
    },
    {
      "cell_type": "code",
      "source": [],
      "metadata": {
        "id": "5Y5UQkKPcQfY"
      },
      "execution_count": null,
      "outputs": []
    }
  ]
}